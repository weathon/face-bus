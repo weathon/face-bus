{
  "nbformat": 4,
  "nbformat_minor": 0,
  "metadata": {
    "colab": {
      "provenance": [],
      "authorship_tag": "ABX9TyNVl4Aw0xctJJhtiBAfipn9",
      "include_colab_link": true
    },
    "kernelspec": {
      "name": "python3",
      "display_name": "Python 3"
    },
    "language_info": {
      "name": "python"
    }
  },
  "cells": [
    {
      "cell_type": "markdown",
      "metadata": {
        "id": "view-in-github",
        "colab_type": "text"
      },
      "source": [
        "<a href=\"https://colab.research.google.com/github/weathon/face-bus/blob/app/data_visualization.ipynb\" target=\"_parent\"><img src=\"https://colab.research.google.com/assets/colab-badge.svg\" alt=\"Open In Colab\"/></a>"
      ]
    },
    {
      "cell_type": "code",
      "execution_count": null,
      "metadata": {
        "id": "VB1nzvmJmgBp",
        "colab": {
          "base_uri": "https://localhost:8080/",
          "height": 326
        },
        "outputId": "0cca99f9-46e3-4a66-e40b-8483e23faa1e"
      },
      "outputs": [
        {
          "output_type": "stream",
          "name": "stderr",
          "text": [
            "<>:34: SyntaxWarning: list indices must be integers or slices, not tuple; perhaps you missed a comma?\n",
            "<>:34: SyntaxWarning: list indices must be integers or slices, not tuple; perhaps you missed a comma?\n",
            "<ipython-input-8-72162950eddf>:34: SyntaxWarning: list indices must be integers or slices, not tuple; perhaps you missed a comma?\n",
            "  [\"ferry\", 9, \"North Beach\", \"July 23, 2023 7:20pm\"]\n"
          ]
        },
        {
          "output_type": "error",
          "ename": "TypeError",
          "evalue": "ignored",
          "traceback": [
            "\u001b[0;31m---------------------------------------------------------------------------\u001b[0m",
            "\u001b[0;31mTypeError\u001b[0m                                 Traceback (most recent call last)",
            "\u001b[0;32m<ipython-input-8-72162950eddf>\u001b[0m in \u001b[0;36m<cell line: 1>\u001b[0;34m()\u001b[0m\n\u001b[1;32m     32\u001b[0m     \u001b[0;34m[\u001b[0m\u001b[0;34m\"bus\"\u001b[0m\u001b[0;34m,\u001b[0m \u001b[0;36m78\u001b[0m\u001b[0;34m,\u001b[0m \u001b[0;34m\"Library\"\u001b[0m\u001b[0;34m,\u001b[0m \u001b[0;34m\"July 23, 2023 7:00pm\"\u001b[0m\u001b[0;34m]\u001b[0m\u001b[0;34m,\u001b[0m\u001b[0;34m\u001b[0m\u001b[0;34m\u001b[0m\u001b[0m\n\u001b[1;32m     33\u001b[0m     \u001b[0;34m[\u001b[0m\u001b[0;34m\"bus\"\u001b[0m\u001b[0;34m,\u001b[0m \u001b[0;36m78\u001b[0m\u001b[0;34m,\u001b[0m \u001b[0;34m\"Library\"\u001b[0m\u001b[0;34m,\u001b[0m \u001b[0;34m\"July 23, 2023 7:00pm\"\u001b[0m\u001b[0;34m]\u001b[0m\u001b[0;34m,\u001b[0m\u001b[0;34m\u001b[0m\u001b[0;34m\u001b[0m\u001b[0m\n\u001b[0;32m---> 34\u001b[0;31m     \u001b[0;34m[\u001b[0m\u001b[0;34m\"ferry\"\u001b[0m\u001b[0;34m,\u001b[0m \u001b[0;36m9\u001b[0m\u001b[0;34m,\u001b[0m \u001b[0;34m\"North Beach\"\u001b[0m\u001b[0;34m,\u001b[0m \u001b[0;34m\"July 23, 2023 7:20pm\"\u001b[0m\u001b[0;34m]\u001b[0m\u001b[0;34m\u001b[0m\u001b[0;34m\u001b[0m\u001b[0m\n\u001b[0m\u001b[1;32m     35\u001b[0m     \u001b[0;34m[\u001b[0m\u001b[0;34m\"ferry\"\u001b[0m\u001b[0;34m,\u001b[0m \u001b[0;36m9\u001b[0m\u001b[0;34m,\u001b[0m \u001b[0;34m\"North Beach\"\u001b[0m\u001b[0;34m,\u001b[0m \u001b[0;34m\"July 23, 2023 7:20pm\"\u001b[0m\u001b[0;34m]\u001b[0m\u001b[0;34m\u001b[0m\u001b[0;34m\u001b[0m\u001b[0m\n\u001b[1;32m     36\u001b[0m     \u001b[0;34m[\u001b[0m\u001b[0;34m\"ferry\"\u001b[0m\u001b[0;34m,\u001b[0m \u001b[0;36m9\u001b[0m\u001b[0;34m,\u001b[0m \u001b[0;34m\"North Beach\"\u001b[0m\u001b[0;34m,\u001b[0m \u001b[0;34m\"July 23, 2023 7:20pm\"\u001b[0m\u001b[0;34m]\u001b[0m\u001b[0;34m\u001b[0m\u001b[0;34m\u001b[0m\u001b[0m\n",
            "\u001b[0;31mTypeError\u001b[0m: list indices must be integers or slices, not tuple"
          ]
        }
      ],
      "source": [
        "data = [\n",
        "    [\"bus\", 90, \"UBCO\", \"July 23, 2023 3:20pm\"],\n",
        "    [\"bus\", 90, \"UBCO\", \"July 23, 2023 3:20pm\"],\n",
        "    [\"bus\", 90, \"UBCO\", \"July 23, 2023 3:20pm\"],\n",
        "    [\"bus\", 90, \"UBCO\", \"July 23, 2023 3:20pm\"],\n",
        "    [\"train\", 8, \"Downtown\", \"July 23, 2023 3:20pm\"],\n",
        "    [\"ferry\", 15, \"Island\", \"July 23, 2023 4:00pm\"],\n",
        "    [\"bus\", 45, \"Airport\", \"July 23, 2023 4:30pm\"],\n",
        "    [\"bus\", 45, \"Airport\", \"July 23, 2023 4:30pm\"],\n",
        "    [\"bus\", 45, \"Airport\", \"July 23, 2023 4:30pm\"],\n",
        "    [\"bus\", 45, \"Airport\", \"July 23, 2023 4:30pm\"],\n",
        "    [\"train\", 12, \"Central Station\", \"July 23, 2023 5:00pm\"],\n",
        "    [\"bus\", 60, \"Mall\", \"July 23, 2023 5:45pm\"],\n",
        "    [\"bus\", 60, \"Mall\", \"July 23, 2023 5:45pm\"],\n",
        "    [\"bus\", 60, \"Mall\", \"July 23, 2023 5:45pm\"],\n",
        "    [\"bus\", 60, \"Mall\", \"July 23, 2023 5:45pm\"],\n",
        "    [\"bus\", 60, \"Mall\", \"July 23, 2023 5:45pm\"],\n",
        "    [\"ferry\", 20, \"Harbor\", \"July 23, 2023 6:10pm\"],\n",
        "    [\"ferry\", 20, \"Harbor\", \"July 23, 2023 6:10pm\"],\n",
        "    [\"ferry\", 20, \"Harbor\", \"July 23, 2023 6:10pm\"],\n",
        "    [\"ferry\", 20, \"Harbor\", \"July 23, 2023 6:10pm\"],\n",
        "    [\"ferry\", 20, \"Harbor\", \"July 23, 2023 6:10pm\"],\n",
        "    [\"train\", 5, \"City Park\", \"July 23, 2023 6:40pm\"],\n",
        "    [\"train\", 5, \"City Park\", \"July 23, 2023 6:40pm\"],\n",
        "    [\"train\", 5, \"City Park\", \"July 23, 2023 6:40pm\"],\n",
        "    [\"train\", 5, \"City Park\", \"July 23, 2023 6:40pm\"],\n",
        "    [\"train\", 5, \"City Park\", \"July 23, 2023 6:40pm\"],\n",
        "    [\"train\", 5, \"City Park\", \"July 23, 2023 6:40pm\"],\n",
        "    [\"bus\", 78, \"Library\", \"July 23, 2023 7:00pm\"],\n",
        "    [\"bus\", 78, \"Library\", \"July 23, 2023 7:00pm\"],\n",
        "    [\"bus\", 78, \"Library\", \"July 23, 2023 7:00pm\"],\n",
        "    [\"bus\", 78, \"Library\", \"July 23, 2023 7:00pm\"],\n",
        "    [\"bus\", 78, \"Library\", \"July 23, 2023 7:00pm\"],\n",
        "    [\"ferry\", 9, \"North Beach\", \"July 23, 2023 7:20pm\"]\n",
        "    [\"ferry\", 9, \"North Beach\", \"July 23, 2023 7:20pm\"]\n",
        "    [\"ferry\", 9, \"North Beach\", \"July 23, 2023 7:20pm\"]\n",
        "    [\"ferry\", 9, \"North Beach\", \"July 23, 2023 7:20pm\"]\n",
        "    [\"ferry\", 9, \"North Beach\", \"July 23, 2023 7:20pm\"]\n",
        "    [\"ferry\", 9, \"North Beach\", \"July 23, 2023 7:20pm\"]\n",
        "    [\"ferry\", 9, \"North Beach\", \"July 23, 2023 7:20pm\"]\n",
        "]\n"
      ]
    },
    {
      "cell_type": "code",
      "source": [
        "import pylab\n",
        "\n",
        "stat = {\n",
        "\"bus\": 0,\n",
        "\"train\": 0,\n",
        "\"ferry\": 0\n",
        "}\n",
        "\n",
        "for i in data:\n",
        "  stat[i[0]] += 1\n",
        "\n",
        "pylab.bar(stat.keys(), [stat[i] for i in stat.keys()])\n",
        "pylab.title(\"\")\n",
        "pylab.xlabel(\"\")\n",
        "pylab.ylabel(\"\")\n",
        "pylab.savefig(\"1.png\")"
      ],
      "metadata": {
        "id": "anxpxsDkmluP",
        "colab": {
          "base_uri": "https://localhost:8080/",
          "height": 430
        },
        "outputId": "55bcd705-6ad3-4b47-fabc-62163b420307"
      },
      "execution_count": null,
      "outputs": [
        {
          "output_type": "display_data",
          "data": {
            "text/plain": [
              "<Figure size 640x480 with 1 Axes>"
            ],
            "image/png": "[encoded data removed]"
          },
          "metadata": {}
        }
      ]
    }
  ]
}