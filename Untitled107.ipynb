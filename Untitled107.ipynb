{
  "nbformat": 4,
  "nbformat_minor": 0,
  "metadata": {
    "colab": {
      "provenance": [],
      "authorship_tag": "ABX9TyPircZqFYrXdVamQ1YsGLDI",
      "include_colab_link": true
    },
    "kernelspec": {
      "name": "python3",
      "display_name": "Python 3"
    },
    "language_info": {
      "name": "python"
    }
  },
  "cells": [
    {
      "cell_type": "markdown",
      "metadata": {
        "id": "view-in-github",
        "colab_type": "text"
      },
      "source": [
        "<a href=\"https://colab.research.google.com/github/weathon/face-bus/blob/app/Untitled107.ipynb\" target=\"_parent\"><img src=\"https://colab.research.google.com/assets/colab-badge.svg\" alt=\"Open In Colab\"/></a>"
      ]
    },
    {
      "cell_type": "code",
      "execution_count": 1,
      "metadata": {
        "colab": {
          "base_uri": "https://localhost:8080/"
        },
        "id": "Cj38fTCHoLEX",
        "outputId": "bcc88ffb-cc89-49f2-a879-3124387d4112"
      },
      "outputs": [
        {
          "output_type": "stream",
          "name": "stdout",
          "text": [
            "Collecting openai\n",
            "  Downloading openai-0.28.0-py3-none-any.whl (76 kB)\n",
            "\u001b[?25l     \u001b[90m━━━━━━━━━━━━━━━━━━━━━━━━━━━━━━━━━━━━━━━━\u001b[0m \u001b[32m0.0/76.5 kB\u001b[0m \u001b[31m?\u001b[0m eta \u001b[36m-:--:--\u001b[0m\r\u001b[2K     \u001b[91m━━━━━━━━━━━━━━━━━━━━━━━━━━━━━━━━━━━━━\u001b[0m\u001b[90m╺\u001b[0m\u001b[90m━━\u001b[0m \u001b[32m71.7/76.5 kB\u001b[0m \u001b[31m2.4 MB/s\u001b[0m eta \u001b[36m0:00:01\u001b[0m\r\u001b[2K     \u001b[90m━━━━━━━━━━━━━━━━━━━━━━━━━━━━━━━━━━━━━━━━\u001b[0m \u001b[32m76.5/76.5 kB\u001b[0m \u001b[31m1.9 MB/s\u001b[0m eta \u001b[36m0:00:00\u001b[0m\n",
            "\u001b[?25hRequirement already satisfied: requests>=2.20 in /usr/local/lib/python3.10/dist-packages (from openai) (2.31.0)\n",
            "Requirement already satisfied: tqdm in /usr/local/lib/python3.10/dist-packages (from openai) (4.66.1)\n",
            "Requirement already satisfied: aiohttp in /usr/local/lib/python3.10/dist-packages (from openai) (3.8.5)\n",
            "Requirement already satisfied: charset-normalizer<4,>=2 in /usr/local/lib/python3.10/dist-packages (from requests>=2.20->openai) (3.2.0)\n",
            "Requirement already satisfied: idna<4,>=2.5 in /usr/local/lib/python3.10/dist-packages (from requests>=2.20->openai) (3.4)\n",
            "Requirement already satisfied: urllib3<3,>=1.21.1 in /usr/local/lib/python3.10/dist-packages (from requests>=2.20->openai) (2.0.4)\n",
            "Requirement already satisfied: certifi>=2017.4.17 in /usr/local/lib/python3.10/dist-packages (from requests>=2.20->openai) (2023.7.22)\n",
            "Requirement already satisfied: attrs>=17.3.0 in /usr/local/lib/python3.10/dist-packages (from aiohttp->openai) (23.1.0)\n",
            "Requirement already satisfied: multidict<7.0,>=4.5 in /usr/local/lib/python3.10/dist-packages (from aiohttp->openai) (6.0.4)\n",
            "Requirement already satisfied: async-timeout<5.0,>=4.0.0a3 in /usr/local/lib/python3.10/dist-packages (from aiohttp->openai) (4.0.3)\n",
            "Requirement already satisfied: yarl<2.0,>=1.0 in /usr/local/lib/python3.10/dist-packages (from aiohttp->openai) (1.9.2)\n",
            "Requirement already satisfied: frozenlist>=1.1.1 in /usr/local/lib/python3.10/dist-packages (from aiohttp->openai) (1.4.0)\n",
            "Requirement already satisfied: aiosignal>=1.1.2 in /usr/local/lib/python3.10/dist-packages (from aiohttp->openai) (1.3.1)\n",
            "Installing collected packages: openai\n",
            "Successfully installed openai-0.28.0\n"
          ]
        }
      ],
      "source": [
        "!pip3 install openai"
      ]
    },
    {
      "cell_type": "code",
      "source": [
        "data = [\n",
        "    [\"bus\", 90, \"UBCO\", \"July 23, 2023 3:20pm\"],\n",
        "    [\"bus\", 90, \"UBCO\", \"July 23, 2023 3:20pm\"],\n",
        "    [\"bus\", 90, \"UBCO\", \"July 23, 2023 3:20pm\"],\n",
        "    [\"bus\", 90, \"UBCO\", \"July 23, 2023 3:20pm\"],\n",
        "    [\"train\", 8, \"Downtown\", \"July 23, 2023 3:20pm\"],\n",
        "    [\"ferry\", 15, \"Island\", \"July 23, 2023 4:00pm\"],\n",
        "    [\"bus\", 45, \"Airport\", \"July 23, 2023 4:30pm\"],\n",
        "    [\"bus\", 45, \"Airport\", \"July 23, 2023 4:30pm\"],\n",
        "    [\"bus\", 45, \"Airport\", \"July 23, 2023 4:30pm\"],\n",
        "    [\"bus\", 45, \"Airport\", \"July 23, 2023 4:30pm\"],\n",
        "    [\"train\", 12, \"Central Station\", \"July 23, 2023 5:00pm\"],\n",
        "    [\"bus\", 60, \"Mall\", \"July 23, 2023 5:45pm\"],\n",
        "    [\"bus\", 60, \"Mall\", \"July 23, 2023 5:45pm\"],\n",
        "    [\"bus\", 60, \"Mall\", \"July 23, 2023 5:45pm\"],\n",
        "    [\"bus\", 60, \"Mall\", \"July 23, 2023 5:45pm\"],\n",
        "    [\"bus\", 60, \"Mall\", \"July 23, 2023 5:45pm\"],\n",
        "    [\"ferry\", 20, \"Harbor\", \"July 23, 2023 6:10pm\"],\n",
        "    [\"ferry\", 20, \"Harbor\", \"July 23, 2023 6:10pm\"],\n",
        "    [\"ferry\", 20, \"Harbor\", \"July 23, 2023 6:10pm\"],\n",
        "    [\"ferry\", 20, \"Harbor\", \"July 23, 2023 6:10pm\"],\n",
        "    [\"ferry\", 20, \"Harbor\", \"July 23, 2023 6:10pm\"],\n",
        "    [\"train\", 5, \"City Park\", \"July 23, 2023 6:40pm\"],\n",
        "    [\"train\", 5, \"City Park\", \"July 23, 2023 6:40pm\"],\n",
        "    [\"train\", 5, \"City Park\", \"July 23, 2023 6:40pm\"],\n",
        "    [\"train\", 5, \"City Park\", \"July 23, 2023 6:40pm\"],\n",
        "    [\"train\", 5, \"City Park\", \"July 23, 2023 6:40pm\"],\n",
        "    [\"train\", 5, \"City Park\", \"July 23, 2023 6:40pm\"],\n",
        "    [\"bus\", 78, \"Library\", \"July 23, 2023 7:00pm\"],\n",
        "    [\"bus\", 78, \"Library\", \"July 23, 2023 7:00pm\"],\n",
        "    [\"bus\", 78, \"Library\", \"July 23, 2023 7:00pm\"],\n",
        "    [\"bus\", 78, \"Library\", \"July 23, 2023 7:00pm\"],\n",
        "    [\"bus\", 78, \"Library\", \"July 23, 2023 7:00pm\"],\n",
        "    [\"ferry\", 9, \"North Beach\", \"July 23, 2023 7:20pm\"],\n",
        "    [\"ferry\", 9, \"North Beach\", \"July 23, 2023 7:20pm\"],\n",
        "    [\"ferry\", 9, \"North Beach\", \"July 23, 2023 7:20pm\"],\n",
        "    [\"ferry\", 9, \"North Beach\", \"July 23, 2023 7:20pm\"],\n",
        "    [\"ferry\", 9, \"North Beach\", \"July 23, 2023 7:20pm\"],\n",
        "    [\"ferry\", 9, \"North Beach\", \"July 23, 2023 7:20pm\"],\n",
        "    [\"ferry\", 9, \"North Beach\", \"July 23, 2023 7:20pm\"]\n",
        "]\n"
      ],
      "metadata": {
        "id": "9sMUTfqzo1YH"
      },
      "execution_count": 4,
      "outputs": []
    },
    {
      "cell_type": "code",
      "source": [
        "openai.api_key="
      ],
      "metadata": {
        "id": "AUTmKHHZpCNv"
      },
      "execution_count": 8,
      "outputs": []
    },
    {
      "cell_type": "code",
      "source": [
        "import openai\n",
        "\n",
        "msg = [\n",
        "          {\"role\": \"system\", \"content\": \"You are a helpful assistant for transportation data analyze. You will be given the history\\\n",
        "           log of the city data, it is in the format of list of \\\n",
        "          lists, each sub-list means a passenger boarded the vehicle. The format is [vehicle type, vehicle number, stop/station name, time],\\\n",
        "          you will chat with the city control center. Remember to show your thinking process, give facts first, then reasoning, \\\n",
        "          then conclusion. Don't worry about saying too much. The user does NOT want code, they want plain text result, \\\n",
        "          so analyze these data by yourself. Again, give facts, then reasoning, then conclusion. Do not output text in markdown format but HTML format. Here is the data: \\n \"+str(data)},\n",
        "          {\"role\": \"user\", \"content\": \"Which stop has the most people?\"}\n",
        "]\n",
        "\n",
        "def chat(msg):\n",
        "  response = openai.ChatCompletion.create(\n",
        "      model=\"gpt-4\",\n",
        "      messages=msg\n",
        "  )\n",
        "  msg.append({\"role\":\"assistant\", \"content\": response[\"choices\"][0][\"message\"][\"content\"]})\n",
        "  return response[\"choices\"][0][\"message\"][\"content\"], msg\n",
        "ans = chat(msg)"
      ],
      "metadata": {
        "id": "YoS8d1pDoNAx"
      },
      "execution_count": 37,
      "outputs": []
    },
    {
      "cell_type": "code",
      "source": [
        "print(ans[0])"
      ],
      "metadata": {
        "colab": {
          "base_uri": "https://localhost:8080/"
        },
        "id": "HpOIjdo0r14U",
        "outputId": "28f9e209-fbe3-47a9-8b49-71c7664f83d9"
      },
      "execution_count": 38,
      "outputs": [
        {
          "output_type": "stream",
          "name": "stdout",
          "text": [
            "Looking at the data, first and foremost, let's consider every entry on the list as each representing one passenger. This is important since we don't have a distinct field representing the number of passengers. Let's now proceed to analyze the data.\n",
            "\n",
            "1) UBCO recorded four bus number 90 at 3:20 pm.\n",
            "2) Downtown recorded one train number 8 at 3:20pm.\n",
            "3) Island recorded one ferry number 15 at 4:00pm.\n",
            "4) Airport recorded four bus number 45 at 4:30pm.\n",
            "5) Central Station recorded one train number 12 at 5:00pm. \n",
            "6) Mall recorded five bus number 60 at 5:45pm.\n",
            "7) Harbor recorded five ferry number 20 at 6:10pm.\n",
            "8) City Park recorded six train number 5 at 6:40pm.\n",
            "9) Library recorded five bus number 78 at 7:00pm.\n",
            "10) North Beach recorded seven ferry number 9 at 7:20pm.\n",
            "\n",
            "The data yields that North Beach, City Park, Mall, Harbor and Library had the most passengers, however, if we look more closely, North Beach had the highest number with seven passengers.\n",
            "\n",
            "So, based on the facts and reasoning presented, the conclusion is that the most passengers were recorded at North Beach.\n"
          ]
        }
      ]
    }
  ]
}