{
  "nbformat": 4,
  "nbformat_minor": 0,
  "metadata": {
    "colab": {
      "provenance": [],
      "authorship_tag": "ABX9TyNpWGirkQyXtzrtUg54PWCi",
      "include_colab_link": true
    },
    "kernelspec": {
      "name": "python3",
      "display_name": "Python 3"
    },
    "language_info": {
      "name": "python"
    }
  },
  "cells": [
    {
      "cell_type": "markdown",
      "metadata": {
        "id": "view-in-github",
        "colab_type": "text"
      },
      "source": [
        "<a href=\"https://colab.research.google.com/github/weathon/face-bus/blob/app/Untitled107.ipynb\" target=\"_parent\"><img src=\"https://colab.research.google.com/assets/colab-badge.svg\" alt=\"Open In Colab\"/></a>"
      ]
    },
    {
      "cell_type": "code",
      "execution_count": 1,
      "metadata": {
        "colab": {
          "base_uri": "https://localhost:8080/"
        },
        "id": "Cj38fTCHoLEX",
        "outputId": "bcc88ffb-cc89-49f2-a879-3124387d4112"
      },
      "outputs": [
        {
          "output_type": "stream",
          "name": "stdout",
          "text": [
            "Collecting openai\n",
            "  Downloading openai-0.28.0-py3-none-any.whl (76 kB)\n",
            "\u001b[?25l     \u001b[90m━━━━━━━━━━━━━━━━━━━━━━━━━━━━━━━━━━━━━━━━\u001b[0m \u001b[32m0.0/76.5 kB\u001b[0m \u001b[31m?\u001b[0m eta \u001b[36m-:--:--\u001b[0m\r\u001b[2K     \u001b[91m━━━━━━━━━━━━━━━━━━━━━━━━━━━━━━━━━━━━━\u001b[0m\u001b[90m╺\u001b[0m\u001b[90m━━\u001b[0m \u001b[32m71.7/76.5 kB\u001b[0m \u001b[31m2.4 MB/s\u001b[0m eta \u001b[36m0:00:01\u001b[0m\r\u001b[2K     \u001b[90m━━━━━━━━━━━━━━━━━━━━━━━━━━━━━━━━━━━━━━━━\u001b[0m \u001b[32m76.5/76.5 kB\u001b[0m \u001b[31m1.9 MB/s\u001b[0m eta \u001b[36m0:00:00\u001b[0m\n",
            "\u001b[?25hRequirement already satisfied: requests>=2.20 in /usr/local/lib/python3.10/dist-packages (from openai) (2.31.0)\n",
            "Requirement already satisfied: tqdm in /usr/local/lib/python3.10/dist-packages (from openai) (4.66.1)\n",
            "Requirement already satisfied: aiohttp in /usr/local/lib/python3.10/dist-packages (from openai) (3.8.5)\n",
            "Requirement already satisfied: charset-normalizer<4,>=2 in /usr/local/lib/python3.10/dist-packages (from requests>=2.20->openai) (3.2.0)\n",
            "Requirement already satisfied: idna<4,>=2.5 in /usr/local/lib/python3.10/dist-packages (from requests>=2.20->openai) (3.4)\n",
            "Requirement already satisfied: urllib3<3,>=1.21.1 in /usr/local/lib/python3.10/dist-packages (from requests>=2.20->openai) (2.0.4)\n",
            "Requirement already satisfied: certifi>=2017.4.17 in /usr/local/lib/python3.10/dist-packages (from requests>=2.20->openai) (2023.7.22)\n",
            "Requirement already satisfied: attrs>=17.3.0 in /usr/local/lib/python3.10/dist-packages (from aiohttp->openai) (23.1.0)\n",
            "Requirement already satisfied: multidict<7.0,>=4.5 in /usr/local/lib/python3.10/dist-packages (from aiohttp->openai) (6.0.4)\n",
            "Requirement already satisfied: async-timeout<5.0,>=4.0.0a3 in /usr/local/lib/python3.10/dist-packages (from aiohttp->openai) (4.0.3)\n",
            "Requirement already satisfied: yarl<2.0,>=1.0 in /usr/local/lib/python3.10/dist-packages (from aiohttp->openai) (1.9.2)\n",
            "Requirement already satisfied: frozenlist>=1.1.1 in /usr/local/lib/python3.10/dist-packages (from aiohttp->openai) (1.4.0)\n",
            "Requirement already satisfied: aiosignal>=1.1.2 in /usr/local/lib/python3.10/dist-packages (from aiohttp->openai) (1.3.1)\n",
            "Installing collected packages: openai\n",
            "Successfully installed openai-0.28.0\n"
          ]
        }
      ],
      "source": [
        "!pip3 install openai"
      ]
    },
    {
      "cell_type": "code",
      "source": [
        "data = [\n",
        "    [\"bus\", 90, \"UBCO\", \"Sept 23, 2023 3:20pm\"],\n",
        "    [\"bus\", 90, \"UBCO\", \"Sept 23, 2023 3:20pm\"],\n",
        "    [\"bus\", 90, \"UBCO\", \"Sept 23, 2023 3:20pm\"],\n",
        "    [\"bus\", 90, \"UBCO\", \"Sept 23, 2023 3:20pm\"],\n",
        "    [\"train\", 8, \"Downtown\", \"Sept 23, 2023 3:20pm\"],\n",
        "    [\"ferry\", 15, \"Island\", \"Sept 23, 2023 4:00pm\"],\n",
        "    [\"bus\", 45, \"Airport\", \"Sept 23, 2023 4:30pm\"],\n",
        "    [\"bus\", 45, \"Airport\", \"Sept 23, 2023 4:30pm\"],\n",
        "    [\"bus\", 45, \"Airport\", \"Sept 23, 2023 4:30pm\"],\n",
        "    [\"bus\", 45, \"Airport\", \"Sept 23, 2023 4:30pm\"],\n",
        "    [\"train\", 12, \"Central Station\", \"Sept 23, 2023 5:00pm\"],\n",
        "    [\"bus\", 60, \"Mall\", \"Sept 23, 2023 5:45pm\"],\n",
        "    [\"bus\", 60, \"Mall\", \"Sept 23, 2023 5:45pm\"],\n",
        "    [\"bus\", 60, \"Mall\", \"Sept 23, 2023 5:45pm\"],\n",
        "    [\"bus\", 60, \"Mall\", \"Sept 23, 2023 5:45pm\"],\n",
        "    [\"bus\", 60, \"Mall\", \"Sept 23, 2023 5:45pm\"],\n",
        "    [\"ferry\", 20, \"Harbor\", \"Sept 23, 2023 6:10pm\"],\n",
        "    [\"ferry\", 20, \"Harbor\", \"Sept 23, 2023 6:10pm\"],\n",
        "    [\"ferry\", 20, \"Harbor\", \"July 23, 2023 6:10pm\"],\n",
        "    [\"ferry\", 20, \"Harbor\", \"July 23, 2023 6:10pm\"],\n",
        "    [\"ferry\", 20, \"Harbor\", \"July 23, 2023 6:10pm\"],\n",
        "    [\"train\", 5, \"City Park\", \"July 23, 2023 6:40pm\"],\n",
        "    [\"train\", 5, \"City Park\", \"July 23, 2023 6:40pm\"],\n",
        "    [\"train\", 5, \"City Park\", \"July 23, 2023 6:40pm\"],\n",
        "    [\"train\", 5, \"City Park\", \"July 23, 2023 6:40pm\"],\n",
        "    [\"train\", 5, \"City Park\", \"July 23, 2023 6:40pm\"],\n",
        "    [\"train\", 5, \"City Park\", \"July 23, 2023 6:40pm\"],\n",
        "    [\"bus\", 78, \"Library\", \"July 23, 2023 7:00pm\"],\n",
        "    [\"bus\", 78, \"Library\", \"July 23, 2023 7:00pm\"],\n",
        "    [\"bus\", 78, \"Library\", \"July 23, 2023 7:00pm\"],\n",
        "    [\"bus\", 78, \"Library\", \"July 23, 2023 7:00pm\"],\n",
        "    [\"bus\", 78, \"Library\", \"July 23, 2023 7:00pm\"],\n",
        "    [\"ferry\", 9, \"North Beach\", \"July 23, 2023 7:20pm\"],\n",
        "    [\"ferry\", 9, \"North Beach\", \"July 23, 2023 7:20pm\"],\n",
        "    [\"ferry\", 9, \"North Beach\", \"July 23, 2023 7:20pm\"],\n",
        "    [\"ferry\", 9, \"North Beach\", \"July 23, 2023 7:20pm\"],\n",
        "    [\"ferry\", 9, \"North Beach\", \"July 23, 2023 7:20pm\"],\n",
        "    [\"ferry\", 9, \"North Beach\", \"July 23, 2023 7:20pm\"],\n",
        "    [\"ferry\", 9, \"North Beach\", \"July 23, 2023 7:20pm\"]\n",
        "]\n"
      ],
      "metadata": {
        "id": "9sMUTfqzo1YH"
      },
      "execution_count": 46,
      "outputs": []
    },
    {
      "cell_type": "code",
      "source": [
        "openai.api_key="
      ],
      "metadata": {
        "id": "AUTmKHHZpCNv"
      },
      "execution_count": 8,
      "outputs": []
    },
    {
      "cell_type": "code",
      "source": [
        "import datetime\n",
        "datetime.datetime.now().strftime(\"Year: %Y Month: %M Day: $D  Time: %H:%M\")"
      ],
      "metadata": {
        "colab": {
          "base_uri": "https://localhost:8080/",
          "height": 36
        },
        "id": "Snufftg3upjX",
        "outputId": "b4ef72b8-2fb4-439b-dfd9-c039bc3b4fa4"
      },
      "execution_count": 45,
      "outputs": [
        {
          "output_type": "execute_result",
          "data": {
            "text/plain": [
              "'Year: 2023 Month: 49 Day: $D  Time: 05:49'"
            ],
            "application/vnd.google.colaboratory.intrinsic+json": {
              "type": "string"
            }
          },
          "metadata": {},
          "execution_count": 45
        }
      ]
    },
    {
      "cell_type": "code",
      "source": [
        "import openai\n",
        "\n",
        "msg = [\n",
        "          {\"role\": \"system\", \"content\": \"You are a helpful assistant for transportation data analyze. You will be given the history\\\n",
        "           log of the city data, it is in the format of list of \\\n",
        "          lists, each sub-list means a passenger boarded the vehicle. The format is [vehicle type, vehicle number, stop/station name, time],\\\n",
        "          you will chat with the city control center. Remember to show your thinking process, give facts first, then reasoning, \\\n",
        "          then conclusion. Don't worry about saying too much (of cause not be too wordy). The user does NOT want code, they want plain text result, \\\n",
        "          so analyze these data by yourself. Again, give facts, then reasoning, then conclusion. Do not output text in markdown\\\n",
        "           format but HTML format. Current date and time:\" + datetime.datetime.now().strftime(\"Year: %Y Month: %M Day: $D  Time: %H:%M\") + \"Here is the data: \\n \"+str(data)},\n",
        "]\n",
        "\n",
        "def chat(msg, prompt):\n",
        "\n",
        "  msg.append( {\"role\": \"user\", \"content\": prompt})\n",
        "  response = openai.ChatCompletion.create(\n",
        "      model=\"gpt-3.5-turbo\",\n",
        "      messages=msg\n",
        "  )\n",
        "  msg.append({\"role\":\"assistant\", \"content\": response[\"choices\"][0][\"message\"][\"content\"]})\n",
        "  return response[\"choices\"][0][\"message\"][\"content\"], msg\n",
        "ans = chat(msg, \"For tech issues, the bus stoped for a few weeks, what is the last time it runs before issues? \")"
      ],
      "metadata": {
        "id": "YoS8d1pDoNAx"
      },
      "execution_count": 56,
      "outputs": []
    },
    {
      "cell_type": "code",
      "source": [
        "print(ans[0]) #gpt 3 get it rioght"
      ],
      "metadata": {
        "colab": {
          "base_uri": "https://localhost:8080/"
        },
        "id": "HpOIjdo0r14U",
        "outputId": "476e6e46-04a4-48a0-e50b-f41d60591211"
      },
      "execution_count": 57,
      "outputs": [
        {
          "output_type": "stream",
          "name": "stdout",
          "text": [
            "To determine the last time the bus was running before the tech issues, I will check the timestamp of the last boarding record for the bus. \n",
            "\n",
            "Based on the given data, the last boarding record for the bus is as follows:\n",
            "- Vehicle type: bus\n",
            "- Vehicle number: 78\n",
            "- Stop/station name: Library\n",
            "- Time: July 23, 2023 7:00pm\n",
            "\n",
            "Therefore, the last time the bus was running before the tech issues is on July 23, 2023 at 7:00pm.\n"
          ]
        }
      ]
    }
  ]
}